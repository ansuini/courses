{
 "cells": [
  {
   "cell_type": "code",
   "execution_count": 4,
   "metadata": {
    "collapsed": true
   },
   "outputs": [],
   "source": [
    "%matplotlib inline"
   ]
  },
  {
   "cell_type": "code",
   "execution_count": 5,
   "metadata": {
    "collapsed": false
   },
   "outputs": [
    {
     "data": {
      "text/plain": [
       "u'/home/ubuntu/courses/deeplearning1/nbs'"
      ]
     },
     "execution_count": 5,
     "metadata": {},
     "output_type": "execute_result"
    }
   ],
   "source": [
    "pwd"
   ]
  },
  {
   "cell_type": "code",
   "execution_count": 6,
   "metadata": {
    "collapsed": true
   },
   "outputs": [],
   "source": [
    "path = \"../../data/obj_neural_code/\"\n",
    "#path = \"../../data/obj_neural_code/sample/\"\n",
    "modelpath = \"../models/vgg16/\""
   ]
  },
  {
   "cell_type": "code",
   "execution_count": 7,
   "metadata": {
    "collapsed": true
   },
   "outputs": [],
   "source": [
    "from __future__ import division,print_function\n",
    "\n",
    "import os, json\n",
    "from glob import glob\n",
    "import numpy as np\n",
    "np.set_printoptions(precision=4, linewidth=100)\n",
    "from matplotlib import pyplot as plt"
   ]
  },
  {
   "cell_type": "code",
   "execution_count": 8,
   "metadata": {
    "collapsed": false
   },
   "outputs": [
    {
     "name": "stderr",
     "output_type": "stream",
     "text": [
      "Using gpu device 0: Tesla K80 (CNMeM is disabled, cuDNN 5103)\n",
      "/home/ubuntu/anaconda2/lib/python2.7/site-packages/theano/sandbox/cuda/__init__.py:600: UserWarning: Your cuDNN version is more recent than the one Theano officially supports. If you see any problems, try updating Theano or downgrading cuDNN to version 5.\n",
      "  warnings.warn(warn)\n",
      "Using Theano backend.\n"
     ]
    }
   ],
   "source": [
    "import utils; reload(utils)\n",
    "from utils import plots"
   ]
  },
  {
   "cell_type": "code",
   "execution_count": 9,
   "metadata": {
    "collapsed": false
   },
   "outputs": [],
   "source": [
    "import vgg16; reload(vgg16)\n",
    "from vgg16 import Vgg16\n",
    "vgg = Vgg16()"
   ]
  },
  {
   "cell_type": "code",
   "execution_count": 13,
   "metadata": {
    "collapsed": false
   },
   "outputs": [],
   "source": [
    "#vgg.model.summary()"
   ]
  },
  {
   "cell_type": "code",
   "execution_count": null,
   "metadata": {
    "collapsed": true
   },
   "outputs": [],
   "source": [
    "batch_size = 64\n",
    "batches = vgg.get_batches(path+'train', batch_size=batch_size)\n",
    "val_batches = vgg.get_batches(path+'valid', batch_size=batch_size)"
   ]
  },
  {
   "cell_type": "code",
   "execution_count": null,
   "metadata": {
    "collapsed": true
   },
   "outputs": [],
   "source": [
    "vgg.finetune(batches)\n",
    "vgg.fit(batches, val_batches, nb_epoch=10)"
   ]
  },
  {
   "cell_type": "code",
   "execution_count": 11,
   "metadata": {
    "collapsed": false
   },
   "outputs": [],
   "source": [
    "from keras.models import model_from_json\n",
    "base = vgg.model\n",
    "model_json = base.to_json()\n",
    "with open(modelpath + \"base.json\", \"w\") as json_file:\n",
    "    json_file.write(model_json)\n",
    "# serialize weights to HDF5\n",
    "base.save_weights(modelpath+\"base.h5\")"
   ]
  },
  {
   "cell_type": "code",
   "execution_count": 12,
   "metadata": {
    "collapsed": false
   },
   "outputs": [
    {
     "name": "stdout",
     "output_type": "stream",
     "text": [
      "lambda_1\n",
      "maxpooling2d_1\n",
      "maxpooling2d_2\n",
      "maxpooling2d_3\n",
      "maxpooling2d_4\n",
      "maxpooling2d_5\n",
      "dense_1\n",
      "dense_2\n",
      "dense_3\n"
     ]
    }
   ],
   "source": [
    "from keras.models import Model\n",
    "idx = [0,5,10,17,24,31,33,35,37]\n",
    "layers  = []\n",
    "for i in range(len(idx)):\n",
    "    print(base.layers[idx[i]].name)\n",
    "    layers.append( base.layers[idx[i]] )\n",
    "\n",
    "models = []\n",
    "for layer in layers:\n",
    "    #print base_model.get_layer(layer.name)\n",
    "    models.append( Model(input=base.input,\n",
    "                         output=base.get_layer(layer.name).output) )"
   ]
  },
  {
   "cell_type": "code",
   "execution_count": 31,
   "metadata": {
    "collapsed": false
   },
   "outputs": [
    {
     "name": "stdout",
     "output_type": "stream",
     "text": [
      "lambda_1\n",
      "maxpooling2d_1\n",
      "maxpooling2d_2\n",
      "maxpooling2d_3\n",
      "maxpooling2d_4\n",
      "maxpooling2d_5\n",
      "dense_1\n",
      "dense_2\n",
      "dense_3\n",
      "Saved models to disk\n"
     ]
    }
   ],
   "source": [
    "for model in models:\n",
    "    NAME = model.layers[-1].name    \n",
    "    model_json = model.to_json()    \n",
    "    with open(modelpath + NAME + '.json', 'w') as json_file:\n",
    "        json_file.write(model_json)\n",
    "    # serialize weights to HDF5\n",
    "    model.save_weights(modelpath + NAME + '.h5')\n",
    "print(\"Saved models to disk\")"
   ]
  },
  {
   "cell_type": "code",
   "execution_count": 12,
   "metadata": {
    "collapsed": false
   },
   "outputs": [
    {
     "name": "stdout",
     "output_type": "stream",
     "text": [
      "Found 1120 images belonging to 40 classes.\n",
      "Found 160 images belonging to 40 classes.\n"
     ]
    }
   ],
   "source": []
  },
  {
   "cell_type": "code",
   "execution_count": 14,
   "metadata": {
    "collapsed": false
   },
   "outputs": [
    {
     "name": "stdout",
     "output_type": "stream",
     "text": [
      "Epoch 1/10\n",
      "1120/1120 [==============================] - 34s - loss: 3.5660 - acc: 0.2339 - val_loss: 1.0369 - val_acc: 0.7438\n",
      "Epoch 2/10\n",
      "1120/1120 [==============================] - 33s - loss: 1.4337 - acc: 0.5893 - val_loss: 0.6535 - val_acc: 0.7500\n",
      "Epoch 3/10\n",
      "1120/1120 [==============================] - 34s - loss: 0.8718 - acc: 0.7384 - val_loss: 0.5599 - val_acc: 0.8125\n",
      "Epoch 4/10\n",
      "1120/1120 [==============================] - 34s - loss: 0.7391 - acc: 0.7759 - val_loss: 0.4363 - val_acc: 0.8313\n",
      "Epoch 5/10\n",
      "1120/1120 [==============================] - 34s - loss: 0.6218 - acc: 0.8027 - val_loss: 0.4109 - val_acc: 0.8438\n",
      "Epoch 6/10\n",
      "1120/1120 [==============================] - 33s - loss: 0.4657 - acc: 0.8393 - val_loss: 0.3882 - val_acc: 0.8625\n",
      "Epoch 7/10\n",
      "1120/1120 [==============================] - 34s - loss: 0.4619 - acc: 0.8580 - val_loss: 0.3470 - val_acc: 0.8625\n",
      "Epoch 8/10\n",
      "1120/1120 [==============================] - 34s - loss: 0.3995 - acc: 0.8670 - val_loss: 0.2243 - val_acc: 0.9375\n",
      "Epoch 9/10\n",
      "1120/1120 [==============================] - 34s - loss: 0.3863 - acc: 0.8759 - val_loss: 0.2953 - val_acc: 0.8875\n",
      "Epoch 10/10\n",
      "1120/1120 [==============================] - 33s - loss: 0.3076 - acc: 0.9018 - val_loss: 0.3003 - val_acc: 0.8875\n"
     ]
    }
   ],
   "source": []
  },
  {
   "cell_type": "code",
   "execution_count": 50,
   "metadata": {
    "collapsed": false
   },
   "outputs": [
    {
     "name": "stdout",
     "output_type": "stream",
     "text": [
      "Found 1120 images belonging to 40 classes.\n",
      "Found 160 images belonging to 40 classes.\n"
     ]
    }
   ],
   "source": [
    "batch_size = 4\n",
    "batches = vgg.get_batches(path+'train', batch_size=batch_size)\n",
    "val_batches = vgg.get_batches(path+'valid', batch_size=batch_size)\n",
    "imgs,labels = next(batches)"
   ]
  },
  {
   "cell_type": "code",
   "execution_count": 51,
   "metadata": {
    "collapsed": false
   },
   "outputs": [
    {
     "data": {
      "text/plain": [
       "(array([ 0.9828,  0.9891,  0.9996,  0.9725], dtype=float32),\n",
       " array([37, 37, 30,  8]),\n",
       " ['7', '7', '37', '17'])"
      ]
     },
     "execution_count": 51,
     "metadata": {},
     "output_type": "execute_result"
    }
   ],
   "source": [
    "vgg.predict(imgs, True)"
   ]
  },
  {
   "cell_type": "code",
   "execution_count": 52,
   "metadata": {
    "collapsed": false
   },
   "outputs": [
    {
     "name": "stdout",
     "output_type": "stream",
     "text": [
      "['7', '7', '37', '17']\n"
     ]
    },
    {
     "data": {
      "image/png": "[encoded data removed]",
      "text/plain": [
       "<matplotlib.figure.Figure at 0x7f18120b4510>"
      ]
     },
     "metadata": {},
     "output_type": "display_data"
    }
   ],
   "source": [
    "new_labels = [vgg.classes[x] for x in np.argmax(labels,1) ]\n",
    "print(new_labels)\n",
    "plots(imgs, titles=new_labels)"
   ]
  }
 ],
 "metadata": {
  "anaconda-cloud": {},
  "kernelspec": {
   "display_name": "Python [default]",
   "language": "python",
   "name": "python2"
  },
  "language_info": {
   "codemirror_mode": {
    "name": "ipython",
    "version": 2
   },
   "file_extension": ".py",
   "mimetype": "text/x-python",
   "name": "python",
   "nbconvert_exporter": "python",
   "pygments_lexer": "ipython2",
   "version": "2.7.12"
  }
 },
 "nbformat": 4,
 "nbformat_minor": 1
}
