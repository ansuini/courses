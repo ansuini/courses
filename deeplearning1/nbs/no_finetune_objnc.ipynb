{
 "cells": [
  {
   "cell_type": "code",
   "execution_count": 25,
   "metadata": {
    "collapsed": true
   },
   "outputs": [],
   "source": [
    "%matplotlib inline\n",
    "\n",
    "datapath = \"../../data/dl1/obj_neural_code/all_flat/\"\n",
    "repath   = \"../../data/dl1/obj_neural_code/rep/nofinetune/\"\n",
    "N = 1440"
   ]
  },
  {
   "cell_type": "code",
   "execution_count": 28,
   "metadata": {
    "collapsed": true
   },
   "outputs": [],
   "source": [
    "from time import time\n",
    "from __future__ import division,print_function\n",
    "import os, json\n",
    "from glob import glob\n",
    "import numpy as np\n",
    "np.set_printoptions(precision=4, linewidth=100)\n",
    "from matplotlib import pyplot as plt\n",
    "import scipy.spatial.distance\n",
    "from keras.models import Model\n",
    "import utils; reload(utils)\n",
    "from utils import plots\n",
    "import vgg16; reload(vgg16)\n",
    "from vgg16 import Vgg16\n",
    "vgg = Vgg16()"
   ]
  },
  {
   "cell_type": "code",
   "execution_count": 11,
   "metadata": {},
   "outputs": [
    {
     "name": "stdout",
     "output_type": "stream",
     "text": [
      "Found 1440 images belonging to 1 classes.\n",
      "N.of batches 24\n"
     ]
    }
   ],
   "source": [
    "batch_size = 60\n",
    "batches = vgg.get_batches(datapath, batch_size=batch_size, shuffle=False)\n",
    "nbatches = int(N/batch_size)\n",
    "print('N.of batches ' + str(nbatches))"
   ]
  },
  {
   "cell_type": "code",
   "execution_count": 5,
   "metadata": {},
   "outputs": [
    {
     "name": "stdout",
     "output_type": "stream",
     "text": [
      "lambda_1\n",
      "maxpooling2d_1\n",
      "maxpooling2d_2\n",
      "maxpooling2d_3\n",
      "maxpooling2d_4\n",
      "maxpooling2d_5\n",
      "dense_1\n",
      "dense_2\n",
      "dense_3\n",
      "Done.\n"
     ]
    }
   ],
   "source": [
    "# create models\n",
    "\n",
    "# lambda_1\n",
    "# maxpooling2d_1\n",
    "# maxpooling2d_2\n",
    "# maxpooling2d_3\n",
    "# maxpooling2d_4\n",
    "# maxpooling2d_5\n",
    "# dense_1\n",
    "# dense_2\n",
    "# dense_3\n",
    "\n",
    "idx = [0,5,10,17,24,31,33,35,37]\n",
    "base = vgg.model\n",
    "layers  = []\n",
    "for i in range(len(idx)):\n",
    "    print(base.layers[idx[i]].name)\n",
    "    layers.append( base.layers[idx[i]] )\n",
    "    \n",
    "models = []\n",
    "for layer in layers:\n",
    "    models.append( Model(input=base.input,\n",
    "                         output=base.get_layer(layer.name).output) )\n",
    "print('Done.')"
   ]
  },
  {
   "cell_type": "code",
   "execution_count": 30,
   "metadata": {},
   "outputs": [
    {
     "name": "stdout",
     "output_type": "stream",
     "text": [
      "Processing model : lambda_1\n",
      "Found 1440 images belonging to 1 classes.\n",
      "42.4226510525\n",
      "Processing model : maxpooling2d_1\n",
      "Found 1440 images belonging to 1 classes.\n",
      "160.491375208\n",
      "Processing model : maxpooling2d_2\n",
      "Found 1440 images belonging to 1 classes.\n",
      "100.189476013\n",
      "Processing model : maxpooling2d_3\n",
      "Found 1440 images belonging to 1 classes.\n",
      "73.8215699196\n",
      "Processing model : maxpooling2d_4\n",
      "Found 1440 images belonging to 1 classes.\n",
      "63.8503069878\n",
      "Processing model : maxpooling2d_5\n",
      "Found 1440 images belonging to 1 classes.\n",
      "53.2669448853\n",
      "Processing model : dense_1\n",
      "Found 1440 images belonging to 1 classes.\n",
      "50.8644709587\n",
      "Processing model : dense_2\n",
      "Found 1440 images belonging to 1 classes.\n",
      "50.9312207699\n",
      "Processing model : dense_3\n",
      "Found 1440 images belonging to 1 classes.\n",
      "50.6345911026\n",
      "Done.\n"
     ]
    }
   ],
   "source": [
    "D = []\n",
    "D_sq = []\n",
    "for layer,model in zip(layers,models):\n",
    "    print('Processing model : ' + layer.name)\n",
    "    R = []\n",
    "    batches = vgg.get_batches(datapath, batch_size=batch_size, shuffle=False)\n",
    "    ti = time()\n",
    "    for n in range(nbatches):\n",
    "        imgs,_ = batches.next()       \n",
    "        R.append(model.predict(imgs))\n",
    "    R = np.asarray(R, dtype=float) \n",
    "    R.shape = [N,R.shape[2],R.shape[3],R.shape[4]]\n",
    "    np.save(repath +  layer.name, R)\n",
    "    \n",
    "    # compute distances\n",
    "    R.shape = R.shape[0], -1\n",
    "    d = scipy.spatial.distance.pdist(R, 'euclidean')\n",
    "    d_sq = scipy.spatial.distance.squareform(d, force='no', checks=True)\n",
    "    D.append(d)\n",
    "    D_sq.append(d_sq)\n",
    "    te = time() - ti\n",
    "    print(te) \n",
    "    \n",
    "np.save(repath + 'D', D)\n",
    "np.save(repath + 'D_sq', D_sq)\n",
    "print('Done.')"
   ]
  }
 ],
 "metadata": {
  "anaconda-cloud": {},
  "kernelspec": {
   "display_name": "Python [conda root]",
   "language": "python",
   "name": "conda-root-py"
  },
  "language_info": {
   "codemirror_mode": {
    "name": "ipython",
    "version": 2
   },
   "file_extension": ".py",
   "mimetype": "text/x-python",
   "name": "python",
   "nbconvert_exporter": "python",
   "pygments_lexer": "ipython2",
   "version": "2.7.12"
  }
 },
 "nbformat": 4,
 "nbformat_minor": 1
}
