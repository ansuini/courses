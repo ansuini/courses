{
 "cells": [
  {
   "cell_type": "markdown",
   "metadata": {},
   "source": [
    "### PCA Analysis of the dense layers (dogs and cats dataset)"
   ]
  },
  {
   "cell_type": "code",
   "execution_count": 1,
   "metadata": {
    "collapsed": true
   },
   "outputs": [],
   "source": [
    "%matplotlib inline\n",
    "path = \"../data/dl1/objnc/rep/dogscats/nofinetune/\"\n",
    "TYPE = 'train'\n",
    "#TYPE = 'valid'\n",
    "threshold = 0.5\n",
    "fraction = 0.9\n",
    "models = ['maxpooling2d_5','dense_1','dense_2','dense_3']"
   ]
  },
  {
   "cell_type": "code",
   "execution_count": 2,
   "metadata": {},
   "outputs": [
    {
     "name": "stderr",
     "output_type": "stream",
     "text": [
      "Using gpu device 0: Tesla K80 (CNMeM is disabled, cuDNN 5103)\n",
      "/home/ubuntu/anaconda2/lib/python2.7/site-packages/theano/sandbox/cuda/__init__.py:600: UserWarning: Your cuDNN version is more recent than the one Theano officially supports. If you see any problems, try updating Theano or downgrading cuDNN to version 5.\n",
      "  warnings.warn(warn)\n",
      "Using Theano backend.\n"
     ]
    },
    {
     "data": {
      "text/plain": [
       "<module 'dimest' from 'dimest.pyc'>"
      ]
     },
     "execution_count": 2,
     "metadata": {},
     "output_type": "execute_result"
    }
   ],
   "source": [
    "from time import time\n",
    "import os\n",
    "import numpy as np\n",
    "from matplotlib import pyplot as plt\n",
    "plt.style.use('ggplot')\n",
    "from utils import *\n",
    "from sklearn.decomposition import PCA\n",
    "from mpl_toolkits.mplot3d import Axes3D\n",
    "from scipy import stats\n",
    "import scipy.spatial.distance\n",
    "import dimest; reload(dimest)"
   ]
  },
  {
   "cell_type": "code",
   "execution_count": 3,
   "metadata": {
    "collapsed": true
   },
   "outputs": [],
   "source": [
    "D = np.load(path +  'D_sq_' + TYPE + '.npy')  "
   ]
  },
  {
   "cell_type": "code",
   "execution_count": 4,
   "metadata": {},
   "outputs": [
    {
     "name": "stdout",
     "output_type": "stream",
     "text": [
      "Space dimension : 25088 Time (s) : 18.2165191174\n",
      "Space dimension : 4096 Time (s) : 4.2443189621\n",
      "Space dimension : 4096 Time (s) : 4.20484614372\n",
      "Space dimension : 1000 Time (s) : 0.769559144974\n",
      "PCA dimensions : [137, 54, 26, 14]\n",
      "Est dimensions : [47.0, 36.0, 26.0, 5.0]\n"
     ]
    }
   ],
   "source": [
    "C = []\n",
    "DimPCA = []\n",
    "DimEst = []\n",
    "\n",
    "for i in range(len(models)):\n",
    "    ti = time() \n",
    "    \n",
    "    # load representation and distances\n",
    "    R = np.load(path + models[i] +  '_' + TYPE + '.npy')   \n",
    "    R.shape = [R.shape[0],-1]\n",
    "    \n",
    "    # estimate dimension \n",
    "    T = dimest.estimate_dim(D[5 + i], fraction=fraction, plot_dim=False)\n",
    "    DimEst.append(np.round(T[2].slope))\n",
    "    \n",
    "    # pca\n",
    "    pca = PCA()\n",
    "    pca.fit(R)\n",
    "    \n",
    "    # append pca results to C\n",
    "    C.append(pca.explained_variance_ratio_)\n",
    "       \n",
    "    # find first element such that var.expl is > threshold and append to I\n",
    "    c = np.cumsum(pca.explained_variance_ratio_) > threshold\n",
    "    trues = np.argwhere(c==True)\n",
    "    DimPCA.append(trues[0][0])\n",
    " \n",
    "    print 'Space dimension : ' + str(R.shape[1]) + ' Time (s) : ' + str(time() - ti)\n",
    "    del R   \n",
    "    \n",
    "print('PCA dimensions : ' + str(DimPCA))\n",
    "print('Est dimensions : ' + str(DimEst))"
   ]
  },
  {
   "cell_type": "markdown",
   "metadata": {},
   "source": [
    "### We concentrate on one layer now : the last conv layer\n",
    "\n",
    "We compute first its PCA, then we separately evaluate the contribution to the intrinsic dimension\n",
    "given by each of the transformed components"
   ]
  },
  {
   "cell_type": "code",
   "execution_count": 41,
   "metadata": {},
   "outputs": [
    {
     "name": "stdout",
     "output_type": "stream",
     "text": [
      "(2000, 25088)\n"
     ]
    }
   ],
   "source": [
    "R = np.load(path + models[0] +  '_' + TYPE + '.npy')   \n",
    "R.shape = [R.shape[0],-1]\n",
    "print R.shape"
   ]
  },
  {
   "cell_type": "code",
   "execution_count": 42,
   "metadata": {},
   "outputs": [
    {
     "name": "stdout",
     "output_type": "stream",
     "text": [
      "(2000, 2000)\n"
     ]
    }
   ],
   "source": [
    "pca = PCA()\n",
    "R_new = pca.fit_transform(R)  \n",
    "print R_new.shape"
   ]
  },
  {
   "cell_type": "code",
   "execution_count": 44,
   "metadata": {},
   "outputs": [
    {
     "name": "stdout",
     "output_type": "stream",
     "text": [
      "Original Dimension = 47.3002851151\n"
     ]
    },
    {
     "data": {
      "image/png": "[encoded data removed]",
      "text/plain": [
       "<matplotlib.figure.Figure at 0x7fd0a63e53d0>"
      ]
     },
     "metadata": {},
     "output_type": "display_data"
    }
   ],
   "source": [
    "# Compute the original dimension\n",
    "\n",
    "d = scipy.spatial.distance.pdist(R_new, 'euclidean')\n",
    "d_sq = scipy.spatial.distance.squareform(d, force='no', checks=True)\n",
    "T = dimest.estimate_dim(d_sq, fraction=fraction, plot_dim=True)\n",
    "Ori_Dim = T[2].slope\n",
    "print('Original Dimension = ' + str(Ori_Dim))"
   ]
  },
  {
   "cell_type": "code",
   "execution_count": null,
   "metadata": {},
   "outputs": [],
   "source": [
    "# for each principal component I compute the dimension without that component\n",
    "Dim = []\n",
    "idx = range(R_new.shape[1])\n",
    "for i in range(50):\n",
    "    ti = time()\n",
    "    \n",
    "    lidx = idx[:i] + idx[i+1 :]\n",
    "    R_tmp = R_new[:,lidx]\n",
    "    d = scipy.spatial.distance.pdist(R_tmp, 'euclidean')\n",
    "    d_sq = scipy.spatial.distance.squareform(d, force='no', checks=True)\n",
    "    T = dimest.estimate_dim(d_sq, fraction=fraction, plot_dim=False)   \n",
    "    Dim.append(T[2].slope)\n",
    "    \n",
    "    te = time()\n",
    "    #print(str(te-ti))"
   ]
  },
  {
   "cell_type": "code",
   "execution_count": 48,
   "metadata": {},
   "outputs": [
    {
     "data": {
      "image/png": "[encoded data removed]",
      "text/plain": [
       "<matplotlib.figure.Figure at 0x7fd0a61cb7d0>"
      ]
     },
     "metadata": {},
     "output_type": "display_data"
    }
   ],
   "source": [
    "fig = plt.figure(figsize=(10,10))\n",
    "plt.plot(Dim,'-ro')\n",
    "plt.plot([0, len(Dim)-1], [Ori_Dim, Ori_Dim],'--g')\n",
    "plt.show()"
   ]
  },
  {
   "cell_type": "code",
   "execution_count": 50,
   "metadata": {},
   "outputs": [
    {
     "data": {
      "text/plain": [
       "47.300285115087313"
      ]
     },
     "execution_count": 50,
     "metadata": {},
     "output_type": "execute_result"
    }
   ],
   "source": [
    "Ori_Dim"
   ]
  },
  {
   "cell_type": "code",
   "execution_count": null,
   "metadata": {
    "collapsed": true
   },
   "outputs": [],
   "source": []
  }
 ],
 "metadata": {
  "anaconda-cloud": {},
  "kernelspec": {
   "display_name": "Python [default]",
   "language": "python",
   "name": "python2"
  },
  "language_info": {
   "codemirror_mode": {
    "name": "ipython",
    "version": 2
   },
   "file_extension": ".py",
   "mimetype": "text/x-python",
   "name": "python",
   "nbconvert_exporter": "python",
   "pygments_lexer": "ipython2",
   "version": "2.7.12"
  }
 },
 "nbformat": 4,
 "nbformat_minor": 1
}
